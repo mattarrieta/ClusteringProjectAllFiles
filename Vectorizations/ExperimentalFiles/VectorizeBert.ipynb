{
 "cells": [
  {
   "cell_type": "code",
   "execution_count": 2,
   "metadata": {},
   "outputs": [],
   "source": [
    "from sentence_transformers import SentenceTransformer, util\n",
    "import os\n",
    "import os, itertools\n",
    "import pandas as pd\n",
    "import numpy as np\n",
    "import numpy as np\n",
    "import pandas as pd\n",
    "import gensim\n",
    "import gensim.downloader as api\n",
    "from gensim.models import Word2Vec\n",
    "from gensim.models.keyedvectors import KeyedVectors\n",
    "from matplotlib.pyplot import text\n",
    "from sklearn.metrics import silhouette_score, silhouette_samples\n",
    "import statistics\n",
    "\n",
    "\n",
    "from numpy import linalg\n"
   ]
  },
  {
   "cell_type": "code",
   "execution_count": null,
   "metadata": {},
   "outputs": [],
   "source": [
    "file_path_l = []\n",
    "\n",
    "for root, dirs, files in os.walk('InternClustersTextAlexisNoSub'):\n",
    "    for filename in files:\n",
    "        file_path_l.append(os.path.join(root, filename))\n",
    "\n",
    "text_l = []\n",
    "for file_path in file_path_l:\n",
    "    filey = open(file_path,encoding=\"mbcs\")\n",
    "    text_l.append(filey.read())\n",
    "    filey.close()\n",
    "\n",
    "types_l = []\n",
    "for namey in file_path_l:\n",
    "    splitted = namey.split('\\\\')\n",
    "    types_l.append(splitted[1])"
   ]
  },
  {
   "cell_type": "code",
   "execution_count": 1,
   "metadata": {},
   "outputs": [
    {
     "ename": "NameError",
     "evalue": "name 'SentenceTransformer' is not defined",
     "output_type": "error",
     "traceback": [
      "\u001b[1;31m---------------------------------------------------------------------------\u001b[0m",
      "\u001b[1;31mNameError\u001b[0m                                 Traceback (most recent call last)",
      "\u001b[1;32mc:\\Users\\Matthew Arrieta\\Desktop\\Project3Testing\\VectorizeBert.ipynb Cell 3'\u001b[0m in \u001b[0;36m<cell line: 1>\u001b[1;34m()\u001b[0m\n\u001b[1;32m----> <a href='vscode-notebook-cell:/c%3A/Users/Matthew%20Arrieta/Desktop/Project3Testing/VectorizeBert.ipynb#ch0000002?line=0'>1</a>\u001b[0m model \u001b[39m=\u001b[39m SentenceTransformer(\u001b[39m'\u001b[39m\u001b[39mmsmarco-distilbert-cos-v5\u001b[39m\u001b[39m'\u001b[39m)\n\u001b[0;32m      <a href='vscode-notebook-cell:/c%3A/Users/Matthew%20Arrieta/Desktop/Project3Testing/VectorizeBert.ipynb#ch0000002?line=1'>2</a>\u001b[0m \u001b[39m#model = SentenceTransformer('sentence-transformers/paraphrase-MiniLM-L6-v2')\u001b[39;00m\n\u001b[0;32m      <a href='vscode-notebook-cell:/c%3A/Users/Matthew%20Arrieta/Desktop/Project3Testing/VectorizeBert.ipynb#ch0000002?line=2'>3</a>\u001b[0m dataset \u001b[39m=\u001b[39m api\u001b[39m.\u001b[39mload(\u001b[39m'\u001b[39m\u001b[39mtext8\u001b[39m\u001b[39m'\u001b[39m)\n",
      "\u001b[1;31mNameError\u001b[0m: name 'SentenceTransformer' is not defined"
     ]
    }
   ],
   "source": [
    "model = SentenceTransformer('msmarco-distilbert-cos-v5')\n",
    "#model = SentenceTransformer('sentence-transformers/paraphrase-MiniLM-L6-v2')\n",
    "dataset = api.load('text8')\n",
    "datasetList= list(dataset)\n",
    "data = [d for d in dataset]\n",
    "#print(datasetList[0])\n"
   ]
  },
  {
   "cell_type": "code",
   "execution_count": null,
   "metadata": {},
   "outputs": [],
   "source": [
    "query = \"The goal of forecasting is not to predict the future but to understand the past\"\n",
    "doc_emb = model.encode(text_l)\n",
    "query_emb = model.encode(text_l[0])\n",
    "\n",
    "#print(query_emb)\n",
    "print(\"Doc_emb\")\n",
    "print((doc_emb))\n",
    "print(doc_emb.shape)\n",
    "print()\n",
    "scores = util.dot_score(query_emb, doc_emb)[0].cpu().tolist()\n",
    "#Combine docs & scores\n",
    "doc_score_pairs = list(zip(text_l, scores))\n",
    "\n",
    "score = silhouette_score(doc_emb, types_l)\n",
    "scoreC = silhouette_score(doc_emb, types_l, metric = \"cosine\")\n",
    "scoreM = silhouette_score(doc_emb, types_l, metric = \"manhattan\")\n",
    "print(\"Full dimensions:\", score)\n",
    "print(\"Full dimensions:\", scoreC)\n",
    "print(\"Full dimensinos:\", scoreM)\n",
    "\n",
    "samples = silhouette_samples(doc_emb, types_l, metric = \"cosine\")\n",
    "\n",
    "\n",
    "types = list(set(types_l))\n",
    "\n",
    "dict = {}\n",
    "\n",
    "for label in types:\n",
    "    dict[label] = []\n",
    "\n",
    "for i in range(len(types_l)):\n",
    "    dict[types_l[i]].append(samples[i])\n",
    "\n",
    "#print(dict)\n",
    "\n",
    "for key, value in dict.items():\n",
    "    print(key, \": \", statistics.mean(value))\n",
    "\n",
    "#print(\"Silhouette Samples: \", samples)\n",
    "\n",
    "#Sort by decreasing score\n",
    "#doc_score_pairs = sorted(doc_score_pairs, key=lambda x: x[1], reverse=True)\n",
    "\n",
    "#Output passages & scores\n",
    "#print(scores)"
   ]
  },
  {
   "cell_type": "code",
   "execution_count": null,
   "metadata": {},
   "outputs": [],
   "source": []
  }
 ],
 "metadata": {
  "interpreter": {
   "hash": "b4bec7b648d61350689a0ccb93b53155b5d49d036bbaf30ce84901e3a87cea97"
  },
  "kernelspec": {
   "display_name": "Python 3.10.4 64-bit (windows store)",
   "language": "python",
   "name": "python3"
  },
  "language_info": {
   "codemirror_mode": {
    "name": "ipython",
    "version": 3
   },
   "file_extension": ".py",
   "mimetype": "text/x-python",
   "name": "python",
   "nbconvert_exporter": "python",
   "pygments_lexer": "ipython3",
   "version": "3.10.5"
  },
  "orig_nbformat": 4
 },
 "nbformat": 4,
 "nbformat_minor": 2
}
